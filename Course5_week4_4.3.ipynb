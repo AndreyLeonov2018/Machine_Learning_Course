{
 "cells": [
  {
   "cell_type": "code",
   "execution_count": 219,
   "metadata": {},
   "outputs": [],
   "source": [
    "import pandas as pd"
   ]
  },
  {
   "cell_type": "code",
   "execution_count": 3,
   "metadata": {},
   "outputs": [],
   "source": [
    "df_test = pd.read_csv('coursera_sessions_test.txt', sep = ';', header= None)\n",
    "df_test.columns = ['viewed', 'bought']\n",
    "df_train = pd.read_csv('coursera_sessions_train.txt', sep = ';', header= None)\n",
    "df_train.columns = ['viewed', 'bought']"
   ]
  },
  {
   "cell_type": "code",
   "execution_count": 4,
   "metadata": {},
   "outputs": [
    {
     "data": {
      "text/html": [
       "<div>\n",
       "<style scoped>\n",
       "    .dataframe tbody tr th:only-of-type {\n",
       "        vertical-align: middle;\n",
       "    }\n",
       "\n",
       "    .dataframe tbody tr th {\n",
       "        vertical-align: top;\n",
       "    }\n",
       "\n",
       "    .dataframe thead th {\n",
       "        text-align: right;\n",
       "    }\n",
       "</style>\n",
       "<table border=\"1\" class=\"dataframe\">\n",
       "  <thead>\n",
       "    <tr style=\"text-align: right;\">\n",
       "      <th></th>\n",
       "      <th>viewed</th>\n",
       "      <th>bought</th>\n",
       "    </tr>\n",
       "  </thead>\n",
       "  <tbody>\n",
       "    <tr>\n",
       "      <th>0</th>\n",
       "      <td>0,1,2,3,4,5</td>\n",
       "      <td>NaN</td>\n",
       "    </tr>\n",
       "    <tr>\n",
       "      <th>1</th>\n",
       "      <td>9,10,11,9,11,12,9,11</td>\n",
       "      <td>NaN</td>\n",
       "    </tr>\n",
       "    <tr>\n",
       "      <th>2</th>\n",
       "      <td>16,17,18,19,20,21</td>\n",
       "      <td>NaN</td>\n",
       "    </tr>\n",
       "    <tr>\n",
       "      <th>3</th>\n",
       "      <td>24,25,26,27,24</td>\n",
       "      <td>NaN</td>\n",
       "    </tr>\n",
       "    <tr>\n",
       "      <th>4</th>\n",
       "      <td>34,35,36,34,37,35,36,37,38,39,38,39</td>\n",
       "      <td>NaN</td>\n",
       "    </tr>\n",
       "  </tbody>\n",
       "</table>\n",
       "</div>"
      ],
      "text/plain": [
       "                                viewed bought\n",
       "0                          0,1,2,3,4,5    NaN\n",
       "1                 9,10,11,9,11,12,9,11    NaN\n",
       "2                    16,17,18,19,20,21    NaN\n",
       "3                       24,25,26,27,24    NaN\n",
       "4  34,35,36,34,37,35,36,37,38,39,38,39    NaN"
      ]
     },
     "execution_count": 4,
     "metadata": {},
     "output_type": "execute_result"
    }
   ],
   "source": [
    "df_train.head()"
   ]
  },
  {
   "cell_type": "code",
   "execution_count": 5,
   "metadata": {},
   "outputs": [],
   "source": [
    "df_train1 = df_train\n",
    "for i in range(df_train.shape[0]):\n",
    "    df_train1.loc[i,:][0] = [int(x) for x in df_train1.loc[i,:][0].split(',')]"
   ]
  },
  {
   "cell_type": "code",
   "execution_count": 6,
   "metadata": {},
   "outputs": [],
   "source": [
    "for i in range(df_train.shape[0]):\n",
    "    #print i\n",
    "    #print df_train1.loc[i,:][1]\n",
    "    if type(df_train1.loc[i,:][1]) == float:\n",
    "        df_train1.loc[i,:][1] = 0\n",
    "    elif type(df_train1.loc[i,:][1]) == int:\n",
    "        df_train1.loc[i,:][1] = int(df_train1.loc[i,:][1])\n",
    "    else:\n",
    "        df_train1.loc[i,:][1] = [int(x) for x in df_train1.loc[i,:][1].split(',')]\n",
    "    #print df_train1.loc[i,:][1]"
   ]
  },
  {
   "cell_type": "code",
   "execution_count": 276,
   "metadata": {},
   "outputs": [],
   "source": [
    "bought_train = OrderedCounter()\n",
    "count = 0\n",
    "for i in df_train1.bought:\n",
    "    #print i\n",
    "    if type(i) == int and i != 0:\n",
    "        if i in bought_train:\n",
    "            count = bought_train[i]\n",
    "            bought_train[i] = count + 1\n",
    "            #print bought_train[i]\n",
    "            #print '/n'\n",
    "        else:\n",
    "            bought_train[i] = 1\n",
    "            #print bought_train[i]\n",
    "            #print '/n'\n",
    "    else:\n",
    "        if i != 0:\n",
    "            for item in i:\n",
    "                #print item\n",
    "                if item in bought_train:\n",
    "                    count = bought_train[item]\n",
    "                    bought_train[item] = count + 1\n",
    "                    #print item, bought_train[item]\n",
    "                    #print '/n'\n",
    "                else:\n",
    "                    if item != 0:\n",
    "                        bought_train[item] = 1\n",
    "                        #print item, bought_train[item]\n",
    "                        #print '/n'"
   ]
  },
  {
   "cell_type": "code",
   "execution_count": 8,
   "metadata": {},
   "outputs": [],
   "source": [
    "viewed_train = {}\n",
    "count = 0\n",
    "for i in df_train1.viewed:\n",
    "    for item in i:\n",
    "        #print item\n",
    "        if item in viewed_train:\n",
    "            count = viewed_train[item]\n",
    "            viewed_train[item] = count + 1\n",
    "            #print item, viewed_train[item]\n",
    "            #print '/n'\n",
    "        else:\n",
    "            viewed_train[item] = 1"
   ]
  },
  {
   "cell_type": "code",
   "execution_count": 257,
   "metadata": {},
   "outputs": [],
   "source": [
    "from collections import Counter, OrderedDict\n",
    "\n",
    "class OrderedCounter(Counter, OrderedDict):\n",
    "     'Counter that remembers the order elements are first seen'\n",
    "    def __repr__(self):\n",
    "         return '%s(%r)' % (self.__class__.__name__,\n",
    "                            OrderedDict(self))\n",
    "    def __reduce__(self):\n",
    "         return self.__class__, (OrderedDict(self),)"
   ]
  },
  {
   "cell_type": "code",
   "execution_count": 9,
   "metadata": {},
   "outputs": [],
   "source": [
    "import operator\n",
    "sorted_viewed_train = sorted(viewed_train.items(), key=operator.itemgetter(1), reverse=True)"
   ]
  },
  {
   "cell_type": "code",
   "execution_count": 10,
   "metadata": {},
   "outputs": [
    {
     "data": {
      "text/plain": [
       "[(73, 677), (158, 641), (204, 396), (262, 387), (162, 318)]"
      ]
     },
     "execution_count": 10,
     "metadata": {},
     "output_type": "execute_result"
    }
   ],
   "source": [
    "sorted_viewed_train[:5]"
   ]
  },
  {
   "cell_type": "code",
   "execution_count": 96,
   "metadata": {},
   "outputs": [],
   "source": [
    "viewed_recom = {}\n",
    "for i in sorted_viewed_train:\n",
    "    viewed_recom[i[0]] = i[1]"
   ]
  },
  {
   "cell_type": "code",
   "execution_count": 12,
   "metadata": {},
   "outputs": [],
   "source": [
    "sorted_bought_train = sorted(bought_train.items(), key=operator.itemgetter(1), reverse=True)"
   ]
  },
  {
   "cell_type": "code",
   "execution_count": 95,
   "metadata": {},
   "outputs": [],
   "source": [
    "bought_recom = {}\n",
    "for i in sorted_bought_train:\n",
    "    bought_recom[i[0]] = i[1]"
   ]
  },
  {
   "cell_type": "code",
   "execution_count": 233,
   "metadata": {},
   "outputs": [
    {
     "data": {
      "text/plain": [
       "[43, 44, 43, 45, 43, 45, 43, 46]"
      ]
     },
     "execution_count": 233,
     "metadata": {},
     "output_type": "execute_result"
    }
   ],
   "source": [
    "df_test.iloc[5,:][0]"
   ]
  },
  {
   "cell_type": "code",
   "execution_count": 286,
   "metadata": {},
   "outputs": [],
   "source": [
    "import operator\n",
    "def average_recall(n, testing_list, type_of_recommendation):\n",
    "    recall_list = []\n",
    "    #number = 0\n",
    "    for index, row in testing_list.iterrows():\n",
    "        #number +=1\n",
    "        #print number\n",
    "        #count = 0\n",
    "        numerator = 0\n",
    "        denominator = 1\n",
    "        if row[1] == 0:\n",
    "            continue\n",
    "        #строим рекомендации для этого пользователя\n",
    "        viewed_products = pd.Series(row[0]).unique()\n",
    "        recommend_dict = OrderedCounter()\n",
    "        for i in viewed_products:\n",
    "            #print i\n",
    "            if i in type_of_recommendation.keys():\n",
    "                recommend_dict[i] = type_of_recommendation[i] \n",
    "            else:\n",
    "                recommend_dict[i] = 0\n",
    "        sorted_x = OrderedCounter(recommend_dict).most_common(n)\n",
    "        recommendations = [x[0] for x in sorted_x][:n]\n",
    "        #если одна покупка\n",
    "        if type(row[1]) == int:\n",
    "            if row[1] in recommendations:\n",
    "                numerator += 1\n",
    "                denominator = 1\n",
    "        # если несколько покупок\n",
    "        if type(row[1]) == list:\n",
    "            for item in row[1]:\n",
    "                if item in recommendations:\n",
    "                    numerator += 1\n",
    "            denominator = len(row[1])\n",
    "        #print float(numerator)/denominator\n",
    "        recall_list.append(float(numerator)/denominator)\n",
    "    result = sum(recall_list) / float(len(recall_list))\n",
    "    return round(result, 2)\n",
    "\n"
   ]
  },
  {
   "cell_type": "code",
   "execution_count": 287,
   "metadata": {},
   "outputs": [],
   "source": [
    "import operator\n",
    "def average_precision(n, testing_list, type_of_recommendation):\n",
    "    recall_list = []\n",
    "    for index, row in testing_list.iterrows():\n",
    "        numerator = 0\n",
    "        count = 0\n",
    "        denominator = 1\n",
    "        if row[1] == 0:\n",
    "            continue\n",
    "        #строим рекомендации для этого пользователя\n",
    "        viewed_products = pd.Series(row[0]).unique()\n",
    "        recommend_dict = OrderedCounter()\n",
    "        for i in viewed_products:\n",
    "            #print i\n",
    "            if i in type_of_recommendation.keys():\n",
    "                recommend_dict[i] = type_of_recommendation[i] \n",
    "            else:\n",
    "                recommend_dict[i] = 0\n",
    "        sorted_x = OrderedCounter(recommend_dict).most_common(n)\n",
    "        recommendations = [x[0] for x in sorted_x][:n]\n",
    "        #если одна покупка\n",
    "        if type(row[1]) == int:\n",
    "            if row[1] in recommendations:\n",
    "                numerator += 1\n",
    "                denominator = n\n",
    "        # если несколько покупок\n",
    "        if type(row[1]) == list:\n",
    "            for item in row[1]:\n",
    "                if item in recommendations:\n",
    "                    numerator += 1\n",
    "            denominator = n\n",
    "        recall_list.append(float(numerator)/denominator)\n",
    "    result = sum(recall_list) / float(len(recall_list))\n",
    "    return round(result, 2)\n",
    "\n",
    "\n"
   ]
  },
  {
   "cell_type": "code",
   "execution_count": null,
   "metadata": {},
   "outputs": [],
   "source": [
    "for i in viewed_products:\n",
    "            #print i\n",
    "            if i in type_of_recommendation.keys():\n",
    "                recommend_dict[i] = type_of_recommendation[i] \n",
    "            else:\n",
    "                recommend_dict[i] = 0\n",
    "        sorted_x = sorted(recommend_dict.items(), key=operator.itemgetter(1), reverse=True)\n",
    "        recommendations = [x[0] for x in sorted_x][:quantity]"
   ]
  },
  {
   "cell_type": "markdown",
   "metadata": {},
   "source": [
    "#   1"
   ]
  },
  {
   "cell_type": "code",
   "execution_count": 168,
   "metadata": {},
   "outputs": [
    {
     "name": "stdout",
     "output_type": "stream",
     "text": [
      "0.44 0.51 0.82 0.21\n"
     ]
    }
   ],
   "source": [
    "print average_recall(1, df_train, viewed_recom), average_precision(1, df_train, viewed_recom), average_recall(5, df_train, viewed_recom),average_precision(5, df_train, viewed_recom)"
   ]
  },
  {
   "cell_type": "code",
   "execution_count": 139,
   "metadata": {},
   "outputs": [],
   "source": [
    "df_test1 = df_test\n",
    "\n",
    "\n",
    "for i in range(df_test1.shape[0]):\n",
    "    df_test1.loc[i,:][0] = [int(x) for x in df_test1.loc[i,:][0].split(',')]"
   ]
  },
  {
   "cell_type": "code",
   "execution_count": 150,
   "metadata": {},
   "outputs": [
    {
     "data": {
      "text/html": [
       "<div>\n",
       "<style scoped>\n",
       "    .dataframe tbody tr th:only-of-type {\n",
       "        vertical-align: middle;\n",
       "    }\n",
       "\n",
       "    .dataframe tbody tr th {\n",
       "        vertical-align: top;\n",
       "    }\n",
       "\n",
       "    .dataframe thead th {\n",
       "        text-align: right;\n",
       "    }\n",
       "</style>\n",
       "<table border=\"1\" class=\"dataframe\">\n",
       "  <thead>\n",
       "    <tr style=\"text-align: right;\">\n",
       "      <th></th>\n",
       "      <th>viewed</th>\n",
       "      <th>bought</th>\n",
       "    </tr>\n",
       "  </thead>\n",
       "  <tbody>\n",
       "    <tr>\n",
       "      <th>0</th>\n",
       "      <td>[6, 7, 8]</td>\n",
       "      <td>63</td>\n",
       "    </tr>\n",
       "    <tr>\n",
       "      <th>1</th>\n",
       "      <td>[13, 14, 15]</td>\n",
       "      <td>63</td>\n",
       "    </tr>\n",
       "    <tr>\n",
       "      <th>2</th>\n",
       "      <td>[22, 23]</td>\n",
       "      <td>63</td>\n",
       "    </tr>\n",
       "    <tr>\n",
       "      <th>3</th>\n",
       "      <td>[28, 29, 30, 31, 32, 33]</td>\n",
       "      <td>63</td>\n",
       "    </tr>\n",
       "    <tr>\n",
       "      <th>4</th>\n",
       "      <td>[40, 41]</td>\n",
       "      <td>63</td>\n",
       "    </tr>\n",
       "  </tbody>\n",
       "</table>\n",
       "</div>"
      ],
      "text/plain": [
       "                     viewed bought\n",
       "0                 [6, 7, 8]     63\n",
       "1              [13, 14, 15]     63\n",
       "2                  [22, 23]     63\n",
       "3  [28, 29, 30, 31, 32, 33]     63\n",
       "4                  [40, 41]     63"
      ]
     },
     "execution_count": 150,
     "metadata": {},
     "output_type": "execute_result"
    }
   ],
   "source": [
    "df_test1.head()"
   ]
  },
  {
   "cell_type": "code",
   "execution_count": 163,
   "metadata": {},
   "outputs": [
    {
     "name": "stdout",
     "output_type": "stream",
     "text": [
      "\n"
     ]
    }
   ],
   "source": [
    "for i in range(df_test1.shape[0]):\n",
    "    #print i\n",
    "    #print df_test1.loc[i,:][1]\n",
    "    if type(df_test1.loc[i,:][1]) == float:\n",
    "        df_test1.loc[i,:][1] = 0\n",
    "    elif type(df_test1.loc[i,:][1]) == int:\n",
    "        df_test1.loc[i,:][1] = int(df_test1.loc[i,:][1])\n",
    "    elif type(df_test1.loc[i,:][1]) == str:\n",
    "        df_test1.loc[i,:][1] = [int(x) for x in df_test1.loc[i,:][1].split(',')]\n",
    "    else:\n",
    "        df_test1.loc[i,:][1] = [int(x) for x in df_test1.loc[i,:][1]]\n",
    "    #print df_test1.loc[i,:][1]"
   ]
  },
  {
   "cell_type": "markdown",
   "metadata": {},
   "source": [
    "### 2"
   ]
  },
  {
   "cell_type": "code",
   "execution_count": 195,
   "metadata": {},
   "outputs": [
    {
     "name": "stdout",
     "output_type": "stream",
     "text": [
      " 0.42 0.49 0.8 0.2\n"
     ]
    }
   ],
   "source": [
    "print average_recall(1, df_test1, viewed_recom), average_precision(1, df_test1, viewed_recom), average_recall(5, df_test1, viewed_recom),average_precision(5, df_test1, viewed_recom)"
   ]
  },
  {
   "cell_type": "markdown",
   "metadata": {},
   "source": [
    "### 3"
   ]
  },
  {
   "cell_type": "code",
   "execution_count": 225,
   "metadata": {},
   "outputs": [
    {
     "name": "stdout",
     "output_type": "stream",
     "text": [
      "0.68 0.79 0.93 0.25\n"
     ]
    }
   ],
   "source": [
    "print average_recall(1, df_train, bought_recom), average_precision(1, df_train, bought_recom), average_recall(5, df_train, bought_recom),average_precision(5, df_train, bought_recom)"
   ]
  },
  {
   "cell_type": "code",
   "execution_count": 200,
   "metadata": {},
   "outputs": [
    {
     "name": "stdout",
     "output_type": "stream",
     "text": [
      "0.68 0.79 0.93 0.25\n"
     ]
    }
   ],
   "source": [
    "print average_recall(1, df_train, bought_recom), average_precision(1, df_train, bought_recom), average_recall(5, df_train, bought_recom),average_precision(5, df_train, bought_recom)"
   ]
  },
  {
   "cell_type": "markdown",
   "metadata": {},
   "source": [
    "### 4"
   ]
  },
  {
   "cell_type": "code",
   "execution_count": 288,
   "metadata": {},
   "outputs": [
    {
     "name": "stdout",
     "output_type": "stream",
     "text": [
      "0.46 0.53 0.82 0.21\n"
     ]
    }
   ],
   "source": [
    "print average_recall(1, df_test, bought_train), average_precision(1, df_test, bought_train), average_recall(5, df_test, bought_train),average_precision(5, df_test, bought_train)"
   ]
  },
  {
   "cell_type": "code",
   "execution_count": null,
   "metadata": {},
   "outputs": [],
   "source": []
  }
 ],
 "metadata": {
  "kernelspec": {
   "display_name": "Python 2",
   "language": "python",
   "name": "python2"
  },
  "language_info": {
   "codemirror_mode": {
    "name": "ipython",
    "version": 2
   },
   "file_extension": ".py",
   "mimetype": "text/x-python",
   "name": "python",
   "nbconvert_exporter": "python",
   "pygments_lexer": "ipython2",
   "version": "2.7.15"
  }
 },
 "nbformat": 4,
 "nbformat_minor": 2
}
