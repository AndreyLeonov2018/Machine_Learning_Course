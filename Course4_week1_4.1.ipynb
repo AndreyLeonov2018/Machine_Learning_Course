{
 "cells": [
  {
   "cell_type": "markdown",
   "metadata": {},
   "source": [
    "# Задание 1.2"
   ]
  },
  {
   "cell_type": "code",
   "execution_count": 29,
   "metadata": {},
   "outputs": [],
   "source": [
    "from sklearn import model_selection, datasets, linear_model, metrics\n",
    "\n",
    "import numpy as np\n",
    "import pandas as pd\n",
    "from statsmodels.stats.weightstats import _zconfint_generic, _tconfint_generic"
   ]
  },
  {
   "cell_type": "code",
   "execution_count": 2,
   "metadata": {},
   "outputs": [
    {
     "name": "stdout",
     "output_type": "stream",
     "text": [
      "Populating the interactive namespace from numpy and matplotlib\n"
     ]
    }
   ],
   "source": [
    "%pylab inline"
   ]
  },
  {
   "cell_type": "code",
   "execution_count": 88,
   "metadata": {},
   "outputs": [
    {
     "data": {
      "text/plain": [
       "pandas.core.series.Series"
      ]
     },
     "execution_count": 88,
     "metadata": {},
     "output_type": "execute_result"
    }
   ],
   "source": [
    "type(data.mortality)"
   ]
  },
  {
   "cell_type": "code",
   "execution_count": 53,
   "metadata": {},
   "outputs": [
    {
     "data": {
      "text/plain": [
       "24.028521714278174"
      ]
     },
     "execution_count": 53,
     "metadata": {},
     "output_type": "execute_result"
    }
   ],
   "source": [
    "data = pd.read_csv('water.txt', sep = '\\t')\n",
    "std = data['mortality'].std(ddof=1)/sqrt(data.mortality.count())\n",
    "print std"
   ]
  },
  {
   "cell_type": "code",
   "execution_count": 54,
   "metadata": {},
   "outputs": [
    {
     "name": "stdout",
     "output_type": "stream",
     "text": [
      "1524.14754098\n"
     ]
    }
   ],
   "source": [
    "mean = data[\"mortality\"].mean()\n",
    "print mean"
   ]
  },
  {
   "cell_type": "code",
   "execution_count": 42,
   "metadata": {},
   "outputs": [
    {
     "data": {
      "text/plain": [
       "61"
      ]
     },
     "execution_count": 42,
     "metadata": {},
     "output_type": "execute_result"
    }
   ],
   "source": [
    "len(data['mortality'])"
   ]
  },
  {
   "cell_type": "code",
   "execution_count": 66,
   "metadata": {},
   "outputs": [
    {
     "name": "stdout",
     "output_type": "stream",
     "text": [
      "(1476.0833413552848, 1572.2117406119285)\n"
     ]
    }
   ],
   "source": [
    "ans1= _tconfint_generic(mean, std, len(data['mortality']) -1 , 0.05, 'two-sided')\n",
    "print ans1"
   ]
  },
  {
   "cell_type": "code",
   "execution_count": 64,
   "metadata": {},
   "outputs": [
    {
     "name": "stdout",
     "output_type": "stream",
     "text": [
      "1476.0833\n"
     ]
    }
   ],
   "source": [
    "x = round(ans1[0], 4)\n",
    "print(x)"
   ]
  },
  {
   "cell_type": "code",
   "execution_count": 96,
   "metadata": {},
   "outputs": [],
   "source": [
    "south = data[data['location'] == 'South'][\"mortality\"]"
   ]
  },
  {
   "cell_type": "code",
   "execution_count": 97,
   "metadata": {},
   "outputs": [
    {
     "data": {
      "text/plain": [
       "26"
      ]
     },
     "execution_count": 97,
     "metadata": {},
     "output_type": "execute_result"
    }
   ],
   "source": [
    "south.count()"
   ]
  },
  {
   "cell_type": "code",
   "execution_count": 98,
   "metadata": {},
   "outputs": [],
   "source": [
    "std1 = south.std(ddof=1)/sqrt(south.count())"
   ]
  },
  {
   "cell_type": "code",
   "execution_count": 99,
   "metadata": {},
   "outputs": [],
   "source": [
    "mean1 = south.mean()"
   ]
  },
  {
   "cell_type": "code",
   "execution_count": 103,
   "metadata": {},
   "outputs": [
    {
     "name": "stdout",
     "output_type": "stream",
     "text": [
      "1433.4636\n"
     ]
    }
   ],
   "source": [
    "ans2= _tconfint_generic(mean1, std1, len(south) -1 , 0.05, 'two-sided')\n",
    "print round(ans2[1], 4)"
   ]
  },
  {
   "cell_type": "code",
   "execution_count": 106,
   "metadata": {},
   "outputs": [
    {
     "name": "stdout",
     "output_type": "stream",
     "text": [
      "(1586.5605251961385, 1680.6394748038613)\n",
      "(1320.1517462936238, 1433.463638321761)\n"
     ]
    }
   ],
   "source": [
    "north = data[data['location'] == 'North'][\"mortality\"]\n",
    "std2 = north.std(ddof=1)/sqrt(north.count())\n",
    "mean2 = north.mean()\n",
    "ans3= _tconfint_generic(mean2, std2, len(north) -1 , 0.05, 'two-sided')\n",
    "print ans3\n",
    "print ans2"
   ]
  },
  {
   "cell_type": "code",
   "execution_count": 110,
   "metadata": {},
   "outputs": [
    {
     "name": "stdout",
     "output_type": "stream",
     "text": [
      "(21.42248728572426, 39.37751271427574)\n",
      "(53.467198692036106, 86.07126284642544)\n"
     ]
    }
   ],
   "source": [
    "north_h = data[data['location'] == 'North'][\"hardness\"]\n",
    "std3 = north_h.std(ddof=1)/sqrt(north_h.count())\n",
    "mean3 = north_h.mean()\n",
    "ans4= _tconfint_generic(mean3, std3, len(north_h) -1 , 0.05, 'two-sided')\n",
    "print ans4\n",
    "\n",
    "north_s = data[data['location'] == 'South'][\"hardness\"]\n",
    "std4 = north_s.std(ddof=1)/sqrt(north_s.count())\n",
    "mean4 = north_s.mean()\n",
    "ans5= _tconfint_generic(mean4, std4, len(north_s) -1 , 0.05, 'two-sided')\n",
    "print ans5"
   ]
  },
  {
   "cell_type": "code",
   "execution_count": 104,
   "metadata": {},
   "outputs": [
    {
     "data": {
      "text/html": [
       "<div>\n",
       "<style scoped>\n",
       "    .dataframe tbody tr th:only-of-type {\n",
       "        vertical-align: middle;\n",
       "    }\n",
       "\n",
       "    .dataframe tbody tr th {\n",
       "        vertical-align: top;\n",
       "    }\n",
       "\n",
       "    .dataframe thead th {\n",
       "        text-align: right;\n",
       "    }\n",
       "</style>\n",
       "<table border=\"1\" class=\"dataframe\">\n",
       "  <thead>\n",
       "    <tr style=\"text-align: right;\">\n",
       "      <th></th>\n",
       "      <th>location</th>\n",
       "      <th>town</th>\n",
       "      <th>mortality</th>\n",
       "      <th>hardness</th>\n",
       "    </tr>\n",
       "  </thead>\n",
       "  <tbody>\n",
       "    <tr>\n",
       "      <th>0</th>\n",
       "      <td>South</td>\n",
       "      <td>Bath</td>\n",
       "      <td>1247</td>\n",
       "      <td>105</td>\n",
       "    </tr>\n",
       "    <tr>\n",
       "      <th>1</th>\n",
       "      <td>North</td>\n",
       "      <td>Birkenhead</td>\n",
       "      <td>1668</td>\n",
       "      <td>17</td>\n",
       "    </tr>\n",
       "    <tr>\n",
       "      <th>2</th>\n",
       "      <td>South</td>\n",
       "      <td>Birmingham</td>\n",
       "      <td>1466</td>\n",
       "      <td>5</td>\n",
       "    </tr>\n",
       "    <tr>\n",
       "      <th>3</th>\n",
       "      <td>North</td>\n",
       "      <td>Blackburn</td>\n",
       "      <td>1800</td>\n",
       "      <td>14</td>\n",
       "    </tr>\n",
       "    <tr>\n",
       "      <th>4</th>\n",
       "      <td>North</td>\n",
       "      <td>Blackpool</td>\n",
       "      <td>1609</td>\n",
       "      <td>18</td>\n",
       "    </tr>\n",
       "    <tr>\n",
       "      <th>5</th>\n",
       "      <td>North</td>\n",
       "      <td>Bolton</td>\n",
       "      <td>1558</td>\n",
       "      <td>10</td>\n",
       "    </tr>\n",
       "    <tr>\n",
       "      <th>6</th>\n",
       "      <td>North</td>\n",
       "      <td>Bootle</td>\n",
       "      <td>1807</td>\n",
       "      <td>15</td>\n",
       "    </tr>\n",
       "    <tr>\n",
       "      <th>7</th>\n",
       "      <td>South</td>\n",
       "      <td>Bournemouth</td>\n",
       "      <td>1299</td>\n",
       "      <td>78</td>\n",
       "    </tr>\n",
       "    <tr>\n",
       "      <th>8</th>\n",
       "      <td>North</td>\n",
       "      <td>Bradford</td>\n",
       "      <td>1637</td>\n",
       "      <td>10</td>\n",
       "    </tr>\n",
       "    <tr>\n",
       "      <th>9</th>\n",
       "      <td>South</td>\n",
       "      <td>Brighton</td>\n",
       "      <td>1359</td>\n",
       "      <td>84</td>\n",
       "    </tr>\n",
       "    <tr>\n",
       "      <th>10</th>\n",
       "      <td>South</td>\n",
       "      <td>Bristol</td>\n",
       "      <td>1392</td>\n",
       "      <td>73</td>\n",
       "    </tr>\n",
       "    <tr>\n",
       "      <th>11</th>\n",
       "      <td>North</td>\n",
       "      <td>Burnley</td>\n",
       "      <td>1755</td>\n",
       "      <td>12</td>\n",
       "    </tr>\n",
       "    <tr>\n",
       "      <th>12</th>\n",
       "      <td>South</td>\n",
       "      <td>Cardiff</td>\n",
       "      <td>1519</td>\n",
       "      <td>21</td>\n",
       "    </tr>\n",
       "    <tr>\n",
       "      <th>13</th>\n",
       "      <td>South</td>\n",
       "      <td>Coventry</td>\n",
       "      <td>1307</td>\n",
       "      <td>78</td>\n",
       "    </tr>\n",
       "    <tr>\n",
       "      <th>14</th>\n",
       "      <td>South</td>\n",
       "      <td>Croydon</td>\n",
       "      <td>1254</td>\n",
       "      <td>96</td>\n",
       "    </tr>\n",
       "    <tr>\n",
       "      <th>15</th>\n",
       "      <td>North</td>\n",
       "      <td>Darlington</td>\n",
       "      <td>1491</td>\n",
       "      <td>20</td>\n",
       "    </tr>\n",
       "    <tr>\n",
       "      <th>16</th>\n",
       "      <td>North</td>\n",
       "      <td>Derby</td>\n",
       "      <td>1555</td>\n",
       "      <td>39</td>\n",
       "    </tr>\n",
       "    <tr>\n",
       "      <th>17</th>\n",
       "      <td>North</td>\n",
       "      <td>Doncaster</td>\n",
       "      <td>1428</td>\n",
       "      <td>39</td>\n",
       "    </tr>\n",
       "    <tr>\n",
       "      <th>18</th>\n",
       "      <td>South</td>\n",
       "      <td>East Ham</td>\n",
       "      <td>1318</td>\n",
       "      <td>122</td>\n",
       "    </tr>\n",
       "    <tr>\n",
       "      <th>19</th>\n",
       "      <td>South</td>\n",
       "      <td>Exeter</td>\n",
       "      <td>1260</td>\n",
       "      <td>21</td>\n",
       "    </tr>\n",
       "    <tr>\n",
       "      <th>20</th>\n",
       "      <td>North</td>\n",
       "      <td>Gateshead</td>\n",
       "      <td>1723</td>\n",
       "      <td>44</td>\n",
       "    </tr>\n",
       "    <tr>\n",
       "      <th>21</th>\n",
       "      <td>North</td>\n",
       "      <td>Grimsby</td>\n",
       "      <td>1379</td>\n",
       "      <td>94</td>\n",
       "    </tr>\n",
       "    <tr>\n",
       "      <th>22</th>\n",
       "      <td>North</td>\n",
       "      <td>Halifax</td>\n",
       "      <td>1742</td>\n",
       "      <td>8</td>\n",
       "    </tr>\n",
       "    <tr>\n",
       "      <th>23</th>\n",
       "      <td>North</td>\n",
       "      <td>Huddersfield</td>\n",
       "      <td>1574</td>\n",
       "      <td>9</td>\n",
       "    </tr>\n",
       "    <tr>\n",
       "      <th>24</th>\n",
       "      <td>North</td>\n",
       "      <td>Hull</td>\n",
       "      <td>1569</td>\n",
       "      <td>91</td>\n",
       "    </tr>\n",
       "    <tr>\n",
       "      <th>25</th>\n",
       "      <td>South</td>\n",
       "      <td>Ipswich</td>\n",
       "      <td>1096</td>\n",
       "      <td>138</td>\n",
       "    </tr>\n",
       "    <tr>\n",
       "      <th>26</th>\n",
       "      <td>North</td>\n",
       "      <td>Leeds</td>\n",
       "      <td>1591</td>\n",
       "      <td>16</td>\n",
       "    </tr>\n",
       "    <tr>\n",
       "      <th>27</th>\n",
       "      <td>South</td>\n",
       "      <td>Leicester</td>\n",
       "      <td>1402</td>\n",
       "      <td>37</td>\n",
       "    </tr>\n",
       "    <tr>\n",
       "      <th>28</th>\n",
       "      <td>North</td>\n",
       "      <td>Liverpool</td>\n",
       "      <td>1772</td>\n",
       "      <td>15</td>\n",
       "    </tr>\n",
       "    <tr>\n",
       "      <th>29</th>\n",
       "      <td>North</td>\n",
       "      <td>Manchester</td>\n",
       "      <td>1828</td>\n",
       "      <td>8</td>\n",
       "    </tr>\n",
       "    <tr>\n",
       "      <th>...</th>\n",
       "      <td>...</td>\n",
       "      <td>...</td>\n",
       "      <td>...</td>\n",
       "      <td>...</td>\n",
       "    </tr>\n",
       "    <tr>\n",
       "      <th>31</th>\n",
       "      <td>North</td>\n",
       "      <td>Newcastle</td>\n",
       "      <td>1702</td>\n",
       "      <td>44</td>\n",
       "    </tr>\n",
       "    <tr>\n",
       "      <th>32</th>\n",
       "      <td>South</td>\n",
       "      <td>Newport</td>\n",
       "      <td>1581</td>\n",
       "      <td>14</td>\n",
       "    </tr>\n",
       "    <tr>\n",
       "      <th>33</th>\n",
       "      <td>South</td>\n",
       "      <td>Northampton</td>\n",
       "      <td>1309</td>\n",
       "      <td>59</td>\n",
       "    </tr>\n",
       "    <tr>\n",
       "      <th>34</th>\n",
       "      <td>South</td>\n",
       "      <td>Norwich</td>\n",
       "      <td>1259</td>\n",
       "      <td>133</td>\n",
       "    </tr>\n",
       "    <tr>\n",
       "      <th>35</th>\n",
       "      <td>North</td>\n",
       "      <td>Nottingham</td>\n",
       "      <td>1427</td>\n",
       "      <td>27</td>\n",
       "    </tr>\n",
       "    <tr>\n",
       "      <th>36</th>\n",
       "      <td>North</td>\n",
       "      <td>Oldham</td>\n",
       "      <td>1724</td>\n",
       "      <td>6</td>\n",
       "    </tr>\n",
       "    <tr>\n",
       "      <th>37</th>\n",
       "      <td>South</td>\n",
       "      <td>Oxford</td>\n",
       "      <td>1175</td>\n",
       "      <td>107</td>\n",
       "    </tr>\n",
       "    <tr>\n",
       "      <th>38</th>\n",
       "      <td>South</td>\n",
       "      <td>Plymouth</td>\n",
       "      <td>1486</td>\n",
       "      <td>5</td>\n",
       "    </tr>\n",
       "    <tr>\n",
       "      <th>39</th>\n",
       "      <td>South</td>\n",
       "      <td>Portsmouth</td>\n",
       "      <td>1456</td>\n",
       "      <td>90</td>\n",
       "    </tr>\n",
       "    <tr>\n",
       "      <th>40</th>\n",
       "      <td>North</td>\n",
       "      <td>Preston</td>\n",
       "      <td>1696</td>\n",
       "      <td>6</td>\n",
       "    </tr>\n",
       "    <tr>\n",
       "      <th>41</th>\n",
       "      <td>South</td>\n",
       "      <td>Reading</td>\n",
       "      <td>1236</td>\n",
       "      <td>101</td>\n",
       "    </tr>\n",
       "    <tr>\n",
       "      <th>42</th>\n",
       "      <td>North</td>\n",
       "      <td>Rochdale</td>\n",
       "      <td>1711</td>\n",
       "      <td>13</td>\n",
       "    </tr>\n",
       "    <tr>\n",
       "      <th>43</th>\n",
       "      <td>North</td>\n",
       "      <td>Rotherham</td>\n",
       "      <td>1444</td>\n",
       "      <td>14</td>\n",
       "    </tr>\n",
       "    <tr>\n",
       "      <th>44</th>\n",
       "      <td>North</td>\n",
       "      <td>St Helens</td>\n",
       "      <td>1591</td>\n",
       "      <td>49</td>\n",
       "    </tr>\n",
       "    <tr>\n",
       "      <th>45</th>\n",
       "      <td>North</td>\n",
       "      <td>Salford</td>\n",
       "      <td>1987</td>\n",
       "      <td>8</td>\n",
       "    </tr>\n",
       "    <tr>\n",
       "      <th>46</th>\n",
       "      <td>North</td>\n",
       "      <td>Sheffield</td>\n",
       "      <td>1495</td>\n",
       "      <td>14</td>\n",
       "    </tr>\n",
       "    <tr>\n",
       "      <th>47</th>\n",
       "      <td>South</td>\n",
       "      <td>Southampton</td>\n",
       "      <td>1369</td>\n",
       "      <td>68</td>\n",
       "    </tr>\n",
       "    <tr>\n",
       "      <th>48</th>\n",
       "      <td>South</td>\n",
       "      <td>Southend</td>\n",
       "      <td>1257</td>\n",
       "      <td>50</td>\n",
       "    </tr>\n",
       "    <tr>\n",
       "      <th>49</th>\n",
       "      <td>North</td>\n",
       "      <td>Southport</td>\n",
       "      <td>1587</td>\n",
       "      <td>75</td>\n",
       "    </tr>\n",
       "    <tr>\n",
       "      <th>50</th>\n",
       "      <td>North</td>\n",
       "      <td>South Shields</td>\n",
       "      <td>1713</td>\n",
       "      <td>71</td>\n",
       "    </tr>\n",
       "    <tr>\n",
       "      <th>51</th>\n",
       "      <td>North</td>\n",
       "      <td>Stockport</td>\n",
       "      <td>1557</td>\n",
       "      <td>13</td>\n",
       "    </tr>\n",
       "    <tr>\n",
       "      <th>52</th>\n",
       "      <td>North</td>\n",
       "      <td>Stoke</td>\n",
       "      <td>1640</td>\n",
       "      <td>57</td>\n",
       "    </tr>\n",
       "    <tr>\n",
       "      <th>53</th>\n",
       "      <td>North</td>\n",
       "      <td>Sunderland</td>\n",
       "      <td>1709</td>\n",
       "      <td>71</td>\n",
       "    </tr>\n",
       "    <tr>\n",
       "      <th>54</th>\n",
       "      <td>South</td>\n",
       "      <td>Swansea</td>\n",
       "      <td>1625</td>\n",
       "      <td>13</td>\n",
       "    </tr>\n",
       "    <tr>\n",
       "      <th>55</th>\n",
       "      <td>North</td>\n",
       "      <td>Wallasey</td>\n",
       "      <td>1625</td>\n",
       "      <td>20</td>\n",
       "    </tr>\n",
       "    <tr>\n",
       "      <th>56</th>\n",
       "      <td>South</td>\n",
       "      <td>Walsall</td>\n",
       "      <td>1527</td>\n",
       "      <td>60</td>\n",
       "    </tr>\n",
       "    <tr>\n",
       "      <th>57</th>\n",
       "      <td>South</td>\n",
       "      <td>West Bromwich</td>\n",
       "      <td>1627</td>\n",
       "      <td>53</td>\n",
       "    </tr>\n",
       "    <tr>\n",
       "      <th>58</th>\n",
       "      <td>South</td>\n",
       "      <td>West Ham</td>\n",
       "      <td>1486</td>\n",
       "      <td>122</td>\n",
       "    </tr>\n",
       "    <tr>\n",
       "      <th>59</th>\n",
       "      <td>South</td>\n",
       "      <td>Wolverhampton</td>\n",
       "      <td>1485</td>\n",
       "      <td>81</td>\n",
       "    </tr>\n",
       "    <tr>\n",
       "      <th>60</th>\n",
       "      <td>North</td>\n",
       "      <td>York</td>\n",
       "      <td>1378</td>\n",
       "      <td>71</td>\n",
       "    </tr>\n",
       "  </tbody>\n",
       "</table>\n",
       "<p>61 rows × 4 columns</p>\n",
       "</div>"
      ],
      "text/plain": [
       "   location           town  mortality  hardness\n",
       "0     South           Bath       1247       105\n",
       "1     North     Birkenhead       1668        17\n",
       "2     South     Birmingham       1466         5\n",
       "3     North      Blackburn       1800        14\n",
       "4     North      Blackpool       1609        18\n",
       "5     North         Bolton       1558        10\n",
       "6     North         Bootle       1807        15\n",
       "7     South    Bournemouth       1299        78\n",
       "8     North       Bradford       1637        10\n",
       "9     South       Brighton       1359        84\n",
       "10    South        Bristol       1392        73\n",
       "11    North        Burnley       1755        12\n",
       "12    South        Cardiff       1519        21\n",
       "13    South       Coventry       1307        78\n",
       "14    South        Croydon       1254        96\n",
       "15    North     Darlington       1491        20\n",
       "16    North          Derby       1555        39\n",
       "17    North      Doncaster       1428        39\n",
       "18    South       East Ham       1318       122\n",
       "19    South         Exeter       1260        21\n",
       "20    North      Gateshead       1723        44\n",
       "21    North        Grimsby       1379        94\n",
       "22    North        Halifax       1742         8\n",
       "23    North   Huddersfield       1574         9\n",
       "24    North           Hull       1569        91\n",
       "25    South        Ipswich       1096       138\n",
       "26    North          Leeds       1591        16\n",
       "27    South      Leicester       1402        37\n",
       "28    North      Liverpool       1772        15\n",
       "29    North     Manchester       1828         8\n",
       "..      ...            ...        ...       ...\n",
       "31    North      Newcastle       1702        44\n",
       "32    South        Newport       1581        14\n",
       "33    South    Northampton       1309        59\n",
       "34    South        Norwich       1259       133\n",
       "35    North     Nottingham       1427        27\n",
       "36    North         Oldham       1724         6\n",
       "37    South         Oxford       1175       107\n",
       "38    South       Plymouth       1486         5\n",
       "39    South     Portsmouth       1456        90\n",
       "40    North        Preston       1696         6\n",
       "41    South        Reading       1236       101\n",
       "42    North       Rochdale       1711        13\n",
       "43    North      Rotherham       1444        14\n",
       "44    North      St Helens       1591        49\n",
       "45    North        Salford       1987         8\n",
       "46    North      Sheffield       1495        14\n",
       "47    South    Southampton       1369        68\n",
       "48    South       Southend       1257        50\n",
       "49    North      Southport       1587        75\n",
       "50    North  South Shields       1713        71\n",
       "51    North      Stockport       1557        13\n",
       "52    North          Stoke       1640        57\n",
       "53    North     Sunderland       1709        71\n",
       "54    South        Swansea       1625        13\n",
       "55    North       Wallasey       1625        20\n",
       "56    South        Walsall       1527        60\n",
       "57    South  West Bromwich       1627        53\n",
       "58    South       West Ham       1486       122\n",
       "59    South  Wolverhampton       1485        81\n",
       "60    North           York       1378        71\n",
       "\n",
       "[61 rows x 4 columns]"
      ]
     },
     "execution_count": 104,
     "metadata": {},
     "output_type": "execute_result"
    }
   ],
   "source": [
    "data"
   ]
  },
  {
   "cell_type": "code",
   "execution_count": 146,
   "metadata": {},
   "outputs": [
    {
     "name": "stdout",
     "output_type": "stream",
     "text": [
      "-0.2533471031357997\n"
     ]
    }
   ],
   "source": [
    "import scipy.stats as stats\n",
    "z = stats.norm.ppf(0.4)\n",
    "print z"
   ]
  },
  {
   "cell_type": "code",
   "execution_count": 147,
   "metadata": {},
   "outputs": [
    {
     "data": {
      "text/plain": [
       "6.418475466730154"
      ]
     },
     "execution_count": 147,
     "metadata": {},
     "output_type": "execute_result"
    }
   ],
   "source": [
    "n = z/0.1\n",
    "n*n"
   ]
  },
  {
   "cell_type": "markdown",
   "metadata": {},
   "source": [
    "# Задание 1.3"
   ]
  },
  {
   "cell_type": "code",
   "execution_count": 148,
   "metadata": {},
   "outputs": [],
   "source": [
    "from statsmodels.stats.proportion import proportion_confint"
   ]
  },
  {
   "cell_type": "code",
   "execution_count": 157,
   "metadata": {},
   "outputs": [],
   "source": [
    "normal_interval = proportion_confint(1, 50, method = 'normal')"
   ]
  },
  {
   "cell_type": "code",
   "execution_count": 158,
   "metadata": {},
   "outputs": [
    {
     "name": "stdout",
     "output_type": "stream",
     "text": [
      "normal_interval [0.000000, 0.058805] with width 0.058805\n"
     ]
    }
   ],
   "source": [
    "print 'normal_interval [%f, %f] with width %f' % (normal_interval[0],\n",
    "                                                  normal_interval[1], \n",
    "                                                  normal_interval[1] - normal_interval[0])"
   ]
  },
  {
   "cell_type": "code",
   "execution_count": 159,
   "metadata": {},
   "outputs": [
    {
     "name": "stdout",
     "output_type": "stream",
     "text": [
      "0.0\n"
     ]
    }
   ],
   "source": [
    "print round(normal_interval[0], 4)"
   ]
  },
  {
   "cell_type": "code",
   "execution_count": 164,
   "metadata": {},
   "outputs": [
    {
     "name": "stdout",
     "output_type": "stream",
     "text": [
      "0.02\n"
     ]
    }
   ],
   "source": [
    "normal_mean = 1/50.\n",
    "print normal_mean"
   ]
  },
  {
   "cell_type": "code",
   "execution_count": 166,
   "metadata": {},
   "outputs": [
    {
     "name": "stdout",
     "output_type": "stream",
     "text": [
      "-0.0188\n"
     ]
    }
   ],
   "source": [
    "lower = normal_mean - (normal_interval[1] - normal_mean)\n",
    "print round(lower,4)"
   ]
  },
  {
   "cell_type": "code",
   "execution_count": 167,
   "metadata": {},
   "outputs": [
    {
     "name": "stdout",
     "output_type": "stream",
     "text": [
      "wilson_interval [0.003470, 0.103046] with width 0.099576\n"
     ]
    }
   ],
   "source": [
    "wilson_interval = proportion_confint(1, 51, method = 'wilson')\n",
    "print 'wilson_interval [%f, %f] with width %f' % (wilson_interval[0],\n",
    "                                                  wilson_interval[1],\n",
    "                                                  wilson_interval[1] - wilson_interval[0])"
   ]
  },
  {
   "cell_type": "code",
   "execution_count": 168,
   "metadata": {},
   "outputs": [
    {
     "name": "stdout",
     "output_type": "stream",
     "text": [
      "0.0035\n"
     ]
    }
   ],
   "source": [
    "print round(wilson_interval[0],4)"
   ]
  },
  {
   "cell_type": "code",
   "execution_count": 169,
   "metadata": {},
   "outputs": [],
   "source": [
    "from statsmodels.stats.proportion import samplesize_confint_proportion"
   ]
  },
  {
   "cell_type": "code",
   "execution_count": 171,
   "metadata": {},
   "outputs": [
    {
     "data": {
      "text/plain": [
       "753"
      ]
     },
     "execution_count": 171,
     "metadata": {},
     "output_type": "execute_result"
    }
   ],
   "source": [
    "n_samples = int(np.ceil(samplesize_confint_proportion(0.02, 0.01)))\n",
    "n_samples"
   ]
  },
  {
   "cell_type": "code",
   "execution_count": 181,
   "metadata": {},
   "outputs": [
    {
     "name": "stdout",
     "output_type": "stream",
     "text": [
      "1.6448536269514722\n"
     ]
    }
   ],
   "source": [
    "from scipy.stats import norm\n",
    "z = norm.ppf(0.95)\n",
    "print z"
   ]
  },
  {
   "cell_type": "code",
   "execution_count": 204,
   "metadata": {},
   "outputs": [
    {
     "name": "stdout",
     "output_type": "stream",
     "text": [
      "9604\n",
      "0.4964964964964965\n"
     ]
    }
   ],
   "source": [
    "print n_list[496]\n",
    "print np.linspace(0,1,1000)[argmax(n_list)]"
   ]
  },
  {
   "cell_type": "code",
   "execution_count": 198,
   "metadata": {},
   "outputs": [
    {
     "name": "stdout",
     "output_type": "stream",
     "text": [
      "[0, 39, 77, 116, 154, 192, 230, 268, 306, 343, 381, 419, 456, 494, 531, 569, 606, 643, 680, 717, 754, 791, 828, 865, 901, 938, 974, 1011, 1047, 1083, 1119, 1156, 1192, 1228, 1263, 1299, 1335, 1371, 1406, 1442, 1477, 1512, 1548, 1583, 1618, 1653, 1688, 1723, 1758, 1792, 1827, 1861, 1896, 1930, 1965, 1999, 2033, 2067, 2101, 2135, 2169, 2203, 2237, 2270, 2304, 2337, 2371, 2404, 2437, 2471, 2504, 2537, 2570, 2602, 2635, 2668, 2701, 2733, 2766, 2798, 2830, 2863, 2895, 2927, 2959, 2991, 3023, 3055, 3086, 3118, 3149, 3181, 3212, 3244, 3275, 3306, 3337, 3368, 3399, 3430, 3461, 3492, 3522, 3553, 3583, 3614, 3644, 3674, 3704, 3735, 3765, 3795, 3824, 3854, 3884, 3914, 3943, 3973, 4002, 4031, 4061, 4090, 4119, 4148, 4177, 4206, 4234, 4263, 4292, 4320, 4349, 4377, 4406, 4434, 4462, 4490, 4518, 4546, 4574, 4602, 4629, 4657, 4685, 4712, 4740, 4767, 4794, 4821, 4848, 4875, 4902, 4929, 4956, 4983, 5009, 5036, 5062, 5089, 5115, 5141, 5168, 5194, 5220, 5246, 5272, 5297, 5323, 5349, 5374, 5400, 5425, 5450, 5476, 5501, 5526, 5551, 5576, 5601, 5626, 5650, 5675, 5699, 5724, 5748, 5773, 5797, 5821, 5845, 5869, 5893, 5917, 5941, 5965, 5988, 6012, 6035, 6059, 6082, 6105, 6128, 6151, 6174, 6197, 6220, 6243, 6266, 6288, 6311, 6333, 6356, 6378, 6400, 6423, 6445, 6467, 6489, 6510, 6532, 6554, 6576, 6597, 6619, 6640, 6661, 6683, 6704, 6725, 6746, 6767, 6788, 6808, 6829, 6850, 6870, 6891, 6911, 6932, 6952, 6972, 6992, 7012, 7032, 7052, 7072, 7091, 7111, 7131, 7150, 7169, 7189, 7208, 7227, 7246, 7265, 7284, 7303, 7322, 7341, 7359, 7378, 7396, 7415, 7433, 7451, 7469, 7487, 7506, 7523, 7541, 7559, 7577, 7594, 7612, 7629, 7647, 7664, 7681, 7699, 7716, 7733, 7750, 7766, 7783, 7800, 7817, 7833, 7850, 7866, 7882, 7899, 7915, 7931, 7947, 7963, 7979, 7994, 8010, 8026, 8041, 8057, 8072, 8087, 8103, 8118, 8133, 8148, 8163, 8178, 8193, 8207, 8222, 8236, 8251, 8265, 8280, 8294, 8308, 8322, 8336, 8350, 8364, 8378, 8391, 8405, 8419, 8432, 8445, 8459, 8472, 8485, 8498, 8511, 8524, 8537, 8550, 8563, 8575, 8588, 8600, 8613, 8625, 8637, 8649, 8661, 8673, 8685, 8697, 8709, 8721, 8732, 8744, 8755, 8767, 8778, 8789, 8800, 8812, 8823, 8833, 8844, 8855, 8866, 8876, 8887, 8897, 8908, 8918, 8928, 8939, 8949, 8959, 8969, 8978, 8988, 8998, 9008, 9017, 9027, 9036, 9045, 9054, 9064, 9073, 9082, 9091, 9100, 9108, 9117, 9126, 9134, 9143, 9151, 9159, 9168, 9176, 9184, 9192, 9200, 9208, 9215, 9223, 9231, 9238, 9246, 9253, 9260, 9268, 9275, 9282, 9289, 9296, 9303, 9309, 9316, 9323, 9329, 9336, 9342, 9348, 9355, 9361, 9367, 9373, 9379, 9385, 9391, 9396, 9402, 9407, 9413, 9418, 9424, 9429, 9434, 9439, 9444, 9449, 9454, 9459, 9463, 9468, 9472, 9477, 9481, 9486, 9490, 9494, 9498, 9502, 9506, 9510, 9514, 9517, 9521, 9524, 9528, 9531, 9535, 9538, 9541, 9544, 9547, 9550, 9553, 9556, 9558, 9561, 9563, 9566, 9568, 9571, 9573, 9575, 9577, 9579, 9581, 9583, 9585, 9586, 9588, 9590, 9591, 9592, 9594, 9595, 9596, 9597, 9598, 9599, 9600, 9601, 9601, 9602, 9603, 9603, 9603, 9604, 9604, 9604, 9604, 9604, 9604, 9604, 9604, 9603, 9603, 9603, 9602, 9601, 9601, 9600, 9599, 9598, 9597, 9596, 9595, 9594, 9592, 9591, 9590, 9588, 9586, 9585, 9583, 9581, 9579, 9577, 9575, 9573, 9571, 9568, 9566, 9563, 9561, 9558, 9556, 9553, 9550, 9547, 9544, 9541, 9538, 9535, 9531, 9528, 9524, 9521, 9517, 9514, 9510, 9506, 9502, 9498, 9494, 9490, 9486, 9481, 9477, 9472, 9468, 9463, 9459, 9454, 9449, 9444, 9439, 9434, 9429, 9424, 9418, 9413, 9407, 9402, 9396, 9391, 9385, 9379, 9373, 9367, 9361, 9355, 9348, 9342, 9336, 9329, 9323, 9316, 9309, 9303, 9296, 9289, 9282, 9275, 9268, 9260, 9253, 9246, 9238, 9231, 9223, 9215, 9208, 9200, 9192, 9184, 9176, 9168, 9159, 9151, 9143, 9134, 9126, 9117, 9108, 9100, 9091, 9082, 9073, 9064, 9054, 9045, 9036, 9027, 9017, 9008, 8998, 8988, 8978, 8969, 8959, 8949, 8939, 8928, 8918, 8908, 8897, 8887, 8876, 8866, 8855, 8844, 8833, 8823, 8812, 8800, 8789, 8778, 8767, 8755, 8744, 8732, 8721, 8709, 8697, 8685, 8673, 8661, 8649, 8637, 8625, 8613, 8600, 8588, 8575, 8563, 8550, 8537, 8524, 8511, 8498, 8485, 8472, 8459, 8445, 8432, 8419, 8405, 8391, 8378, 8364, 8350, 8336, 8322, 8308, 8294, 8280, 8265, 8251, 8236, 8222, 8207, 8193, 8178, 8163, 8148, 8133, 8118, 8103, 8087, 8072, 8057, 8041, 8026, 8010, 7994, 7979, 7963, 7947, 7931, 7915, 7899, 7882, 7866, 7850, 7833, 7817, 7800, 7783, 7766, 7750, 7733, 7716, 7699, 7681, 7664, 7647, 7629, 7612, 7594, 7577, 7559, 7541, 7523, 7506, 7487, 7469, 7451, 7433, 7415, 7396, 7378, 7359, 7341, 7322, 7303, 7284, 7265, 7246, 7227, 7208, 7189, 7169, 7150, 7131, 7111, 7091, 7072, 7052, 7032, 7012, 6992, 6972, 6952, 6932, 6911, 6891, 6870, 6850, 6829, 6808, 6788, 6767, 6746, 6725, 6704, 6683, 6661, 6640, 6619, 6597, 6576, 6554, 6532, 6510, 6489, 6467, 6445, 6423, 6400, 6378, 6356, 6333, 6311, 6288, 6266, 6243, 6220, 6197, 6174, 6151, 6128, 6105, 6082, 6059, 6035, 6012, 5988, 5965, 5941, 5917, 5893, 5869, 5845, 5821, 5797, 5773, 5748, 5724, 5699, 5675, 5650, 5626, 5601, 5576, 5551, 5526, 5501, 5476, 5450, 5425, 5400, 5374, 5349, 5323, 5297, 5272, 5246, 5220, 5194, 5168, 5141, 5115, 5089, 5062, 5036, 5009, 4983, 4956, 4929, 4902, 4875, 4848, 4821, 4794, 4767, 4740, 4712, 4685, 4657, 4629, 4602, 4574, 4546, 4518, 4490, 4462, 4434, 4406, 4377, 4349, 4320, 4292, 4263, 4234, 4206, 4177, 4148, 4119, 4090, 4061, 4031, 4002, 3973, 3943, 3914, 3884, 3854, 3824, 3795, 3765, 3735, 3704, 3674, 3644, 3614, 3583, 3553, 3522, 3492, 3461, 3430, 3399, 3368, 3337, 3306, 3275, 3244, 3212, 3181, 3149, 3118, 3086, 3055, 3023, 2991, 2959, 2927, 2895, 2863, 2830, 2798, 2766, 2733, 2701, 2668, 2635, 2602, 2570, 2537, 2504, 2471, 2437, 2404, 2371, 2337, 2304, 2270, 2237, 2203, 2169, 2135, 2101, 2067, 2033, 1999, 1965, 1930, 1896, 1861, 1827, 1792, 1758, 1723, 1688, 1653, 1618, 1583, 1548, 1512, 1477, 1442, 1406, 1371, 1335, 1299, 1263, 1228, 1192, 1156, 1119, 1083, 1047, 1011, 974, 938, 901, 865, 828, 791, 754, 717, 680, 643, 606, 569, 531, 494, 456, 419, 381, 343, 306, 268, 230, 192, 154, 116, 77, 39, 0]\n"
     ]
    },
    {
     "data": {
      "text/plain": [
       "<matplotlib.collections.PathCollection at 0x126d39b50>"
      ]
     },
     "execution_count": 198,
     "metadata": {},
     "output_type": "execute_result"
    },
    {
     "data": {
      "image/png": "[encoded data removed]",
      "text/plain": [
       "<Figure size 432x288 with 1 Axes>"
      ]
     },
     "metadata": {
      "needs_background": "light"
     },
     "output_type": "display_data"
    }
   ],
   "source": [
    "n_list = []\n",
    "for n in np.linspace(0,1,1000):\n",
    "    n_samples = int(np.ceil(samplesize_confint_proportion(n, 0.01)))\n",
    "    n_list.append(n_samples)\n",
    "print n_list\n",
    "plt.scatter(np.linspace(0,1,1000), n_list)"
   ]
  },
  {
   "cell_type": "markdown",
   "metadata": {},
   "source": [
    "# Задание 1.4"
   ]
  },
  {
   "cell_type": "code",
   "execution_count": 223,
   "metadata": {},
   "outputs": [
    {
     "name": "stdout",
     "output_type": "stream",
     "text": [
      "-2.9677\n"
     ]
    }
   ],
   "source": [
    "print round(norm.ppf(0.0015), 4)"
   ]
  },
  {
   "cell_type": "code",
   "execution_count": 221,
   "metadata": {},
   "outputs": [
    {
     "data": {
      "text/plain": [
       "-2.1700903775845606"
      ]
     },
     "execution_count": 221,
     "metadata": {},
     "output_type": "execute_result"
    }
   ],
   "source": [
    "norm.ppf(0.015)"
   ]
  },
  {
   "cell_type": "code",
   "execution_count": 229,
   "metadata": {},
   "outputs": [
    {
     "data": {
      "text/plain": [
       "-0.0077"
      ]
     },
     "execution_count": 229,
     "metadata": {},
     "output_type": "execute_result"
    }
   ],
   "source": [
    "round(104/11037. - 189/11034.,4)"
   ]
  },
  {
   "cell_type": "code",
   "execution_count": 236,
   "metadata": {},
   "outputs": [],
   "source": [
    "import scipy"
   ]
  },
  {
   "cell_type": "code",
   "execution_count": 237,
   "metadata": {},
   "outputs": [],
   "source": [
    "def proportions_confint_diff_ind(sample1, sample2, alpha = 0.05):    \n",
    "    z = scipy.stats.norm.ppf(1 - alpha / 2.)   \n",
    "    p1 = float(sum(sample1)) / len(sample1)\n",
    "    p2 = float(sum(sample2)) / len(sample2)\n",
    "    \n",
    "    left_boundary = (p1 - p2) - z * np.sqrt(p1 * (1 - p1)/ len(sample1) + p2 * (1 - p2)/ len(sample2))\n",
    "    right_boundary = (p1 - p2) + z * np.sqrt(p1 * (1 - p1)/ len(sample1) + p2 * (1 - p2)/ len(sample2))\n",
    "    \n",
    "    return (left_boundary, right_boundary)"
   ]
  },
  {
   "cell_type": "code",
   "execution_count": 238,
   "metadata": {},
   "outputs": [],
   "source": [
    "sample1 = np.array([0]*(11037 - 104) + [1]*104)\n",
    "sample2 = np.array([0]*(11034 - 189) + [1]*189)"
   ]
  },
  {
   "cell_type": "code",
   "execution_count": 239,
   "metadata": {},
   "outputs": [
    {
     "data": {
      "text/plain": [
       "104"
      ]
     },
     "execution_count": 239,
     "metadata": {},
     "output_type": "execute_result"
    }
   ],
   "source": [
    "sum(sample1==1)"
   ]
  },
  {
   "cell_type": "code",
   "execution_count": 243,
   "metadata": {},
   "outputs": [
    {
     "name": "stdout",
     "output_type": "stream",
     "text": [
      "0.0107\n"
     ]
    }
   ],
   "source": [
    "print round(proportions_confint_diff_ind(sample2, sample1, alpha = 0.05)[1], 4)"
   ]
  },
  {
   "cell_type": "code",
   "execution_count": 259,
   "metadata": {},
   "outputs": [],
   "source": [
    "n1 = 104/11037.0\n",
    "n2 = 189/11034.0"
   ]
  },
  {
   "cell_type": "code",
   "execution_count": 260,
   "metadata": {},
   "outputs": [
    {
     "name": "stdout",
     "output_type": "stream",
     "text": [
      "0.00951248513674\n"
     ]
    }
   ],
   "source": [
    "p1 = n1/(1-n1)\n",
    "print p1"
   ]
  },
  {
   "cell_type": "code",
   "execution_count": 261,
   "metadata": {},
   "outputs": [
    {
     "name": "stdout",
     "output_type": "stream",
     "text": [
      "0.0174273858921\n"
     ]
    }
   ],
   "source": [
    "p2 = n2/(1-n2)\n",
    "print p2"
   ]
  },
  {
   "cell_type": "code",
   "execution_count": 262,
   "metadata": {},
   "outputs": [
    {
     "data": {
      "text/plain": [
       "1.8320539419087138"
      ]
     },
     "execution_count": 262,
     "metadata": {},
     "output_type": "execute_result"
    }
   ],
   "source": [
    "p2/p1"
   ]
  },
  {
   "cell_type": "code",
   "execution_count": 263,
   "metadata": {},
   "outputs": [],
   "source": [
    "def get_bootstrap_samples(data, n_samples):\n",
    "    indices = np.random.randint(0, len(data), (n_samples, len(data)))\n",
    "    samples = data[indices]\n",
    "    return samples"
   ]
  },
  {
   "cell_type": "code",
   "execution_count": 264,
   "metadata": {},
   "outputs": [],
   "source": [
    "def stat_intervals(stat, alpha):\n",
    "    boundaries = np.percentile(stat, [100 * alpha / 2., 100 * (1 - alpha / 2.)])\n",
    "    return boundaries"
   ]
  },
  {
   "cell_type": "code",
   "execution_count": 290,
   "metadata": {},
   "outputs": [],
   "source": [
    "np.random.seed(0)\n",
    "sample1 = np.array([1]*104 + [0]*(11037 - 104))\n",
    "sample2 = np.array([1]*189 + [0]*(11034 - 189))"
   ]
  },
  {
   "cell_type": "code",
   "execution_count": 291,
   "metadata": {},
   "outputs": [
    {
     "data": {
      "text/plain": [
       "189"
      ]
     },
     "execution_count": 291,
     "metadata": {},
     "output_type": "execute_result"
    }
   ],
   "source": [
    "sum(sample2 == 1)"
   ]
  },
  {
   "cell_type": "code",
   "execution_count": 293,
   "metadata": {},
   "outputs": [],
   "source": [
    "def chance_relation(data):\n",
    "    n = float(sum(data == 1))/len(data)\n",
    "    p = n/(1-n)\n",
    "    return p"
   ]
  },
  {
   "cell_type": "code",
   "execution_count": 294,
   "metadata": {},
   "outputs": [],
   "source": [
    "chance_relation1_scores = map(chance_relation, get_bootstrap_samples(sample1, 1000))\n",
    "chance_relation2_scores = map(chance_relation, get_bootstrap_samples(sample2, 1000))\n"
   ]
  },
  {
   "cell_type": "code",
   "execution_count": 295,
   "metadata": {},
   "outputs": [],
   "source": [
    "x = map(lambda x: x[1]/x[0], zip(chance_relation1_scores, chance_relation2_scores))"
   ]
  },
  {
   "cell_type": "code",
   "execution_count": 296,
   "metadata": {},
   "outputs": [
    {
     "name": "stdout",
     "output_type": "stream",
     "text": [
      "95% confidence interval [1.44419465 2.34321168]\n"
     ]
    }
   ],
   "source": [
    "print \"95% confidence interval\",  stat_intervals(x, 0.05)"
   ]
  },
  {
   "cell_type": "code",
   "execution_count": 297,
   "metadata": {},
   "outputs": [
    {
     "data": {
      "text/plain": [
       "1.4442"
      ]
     },
     "execution_count": 297,
     "metadata": {},
     "output_type": "execute_result"
    }
   ],
   "source": [
    "round(stat_intervals(x, 0.05)[0], 4)"
   ]
  },
  {
   "cell_type": "markdown",
   "metadata": {},
   "source": [
    "# Задание 1.5"
   ]
  },
  {
   "cell_type": "code",
   "execution_count": 303,
   "metadata": {},
   "outputs": [],
   "source": [
    "n = 100\n",
    "F_H0 = stats.binom(n, 0.75)"
   ]
  },
  {
   "cell_type": "code",
   "execution_count": 308,
   "metadata": {},
   "outputs": [
    {
     "data": {
      "image/png": "[encoded data removed]",
      "text/plain": [
       "<Figure size 432x288 with 1 Axes>"
      ]
     },
     "metadata": {
      "needs_background": "light"
     },
     "output_type": "display_data"
    }
   ],
   "source": [
    "x = np.linspace(0,100,101)\n",
    "\n",
    "pylab.bar(x, F_H0.pmf(x), align = 'center')\n",
    "xlim(55, 95)\n",
    "pylab.show()"
   ]
  },
  {
   "cell_type": "code",
   "execution_count": 307,
   "metadata": {},
   "outputs": [
    {
     "data": {
      "text/plain": [
       "68"
      ]
     },
     "execution_count": 307,
     "metadata": {},
     "output_type": "execute_result"
    }
   ],
   "source": [
    "len(np.linspace(0,67,68))"
   ]
  },
  {
   "cell_type": "code",
   "execution_count": 310,
   "metadata": {},
   "outputs": [
    {
     "data": {
      "text/plain": [
       "array([6.22301528e-61, 1.86690458e-58, 2.77235331e-56, 2.71690624e-54,\n",
       "       1.97654929e-52, 1.13849239e-50, 5.40783886e-49, 2.17858651e-47,\n",
       "       7.59782046e-46, 2.32999827e-44, 6.36089529e-43, 1.56131066e-41,\n",
       "       3.47391622e-40, 7.05472217e-39, 1.31520178e-37, 2.26214706e-36,\n",
       "       3.60529687e-35, 5.34432242e-34, 7.39297935e-33, 9.57196273e-32,\n",
       "       1.16299347e-30, 1.32913540e-29, 1.43184131e-28, 1.45674290e-27,\n",
       "       1.40211504e-26, 1.27872892e-25, 1.10659233e-24, 9.09864808e-24,\n",
       "       7.11644260e-23, 5.30052277e-22, 3.76337116e-21, 2.54938047e-20,\n",
       "       1.64913049e-19, 1.01946248e-18, 6.02682233e-18, 3.40945949e-17,\n",
       "       1.84679056e-16, 9.58334560e-16, 4.76645347e-15, 2.27323165e-14,\n",
       "       1.04000348e-13, 4.56586894e-13, 1.92418763e-12, 7.78624760e-12,\n",
       "       3.02601895e-11, 1.12971374e-10, 4.05223408e-10, 1.39672749e-09,\n",
       "       4.62665981e-09, 1.47297741e-08, 4.50731088e-08, 1.32567967e-07,\n",
       "       3.74759445e-07, 1.01821434e-06, 2.65867078e-06, 6.67084668e-06,\n",
       "       1.60815054e-05, 3.72413809e-05, 8.28299679e-05, 1.76891118e-04,\n",
       "       3.62626792e-04, 7.13364180e-04, 1.34618724e-03, 2.43595787e-03,\n",
       "       4.22486443e-03, 7.01977474e-03, 1.11678235e-02, 1.70017611e-02])"
      ]
     },
     "execution_count": 310,
     "metadata": {},
     "output_type": "execute_result"
    }
   ],
   "source": [
    "F_H0.pmf(np.linspace(0,67,68))"
   ]
  },
  {
   "cell_type": "code",
   "execution_count": 311,
   "metadata": {},
   "outputs": [
    {
     "data": {
      "image/png": "[encoded data removed]",
      "text/plain": [
       "<Figure size 432x288 with 1 Axes>"
      ]
     },
     "metadata": {
      "needs_background": "light"
     },
     "output_type": "display_data"
    }
   ],
   "source": [
    "pylab.bar(x, F_H0.pmf(x), align = 'center')\n",
    "pylab.bar(np.linspace(0,67,68), F_H0.pmf(np.linspace(0,67,68)), align = 'center', color='red')\n",
    "xlim(55, 95) \n",
    "pylab.show()"
   ]
  },
  {
   "cell_type": "code",
   "execution_count": 398,
   "metadata": {},
   "outputs": [
    {
     "data": {
      "text/plain": [
       "0.08222258891386608"
      ]
     },
     "execution_count": 398,
     "metadata": {},
     "output_type": "execute_result"
    }
   ],
   "source": [
    "stats.binom_test(67, 100, 0.75)"
   ]
  },
  {
   "cell_type": "code",
   "execution_count": 331,
   "metadata": {},
   "outputs": [
    {
     "data": {
      "text/plain": [
       "3.4831478978300243e-06"
      ]
     },
     "execution_count": 331,
     "metadata": {},
     "output_type": "execute_result"
    }
   ],
   "source": [
    "stats.binom_test(22, 50, 0.75)"
   ]
  },
  {
   "cell_type": "code",
   "execution_count": 350,
   "metadata": {},
   "outputs": [
    {
     "data": {
      "text/html": [
       "<div>\n",
       "<style scoped>\n",
       "    .dataframe tbody tr th:only-of-type {\n",
       "        vertical-align: middle;\n",
       "    }\n",
       "\n",
       "    .dataframe tbody tr th {\n",
       "        vertical-align: top;\n",
       "    }\n",
       "\n",
       "    .dataframe thead th {\n",
       "        text-align: right;\n",
       "    }\n",
       "</style>\n",
       "<table border=\"1\" class=\"dataframe\">\n",
       "  <thead>\n",
       "    <tr style=\"text-align: right;\">\n",
       "      <th></th>\n",
       "      <th>sn</th>\n",
       "      <th>we</th>\n",
       "    </tr>\n",
       "  </thead>\n",
       "  <tbody>\n",
       "    <tr>\n",
       "      <th>0</th>\n",
       "      <td>200.0</td>\n",
       "      <td>8.8</td>\n",
       "    </tr>\n",
       "    <tr>\n",
       "      <th>1</th>\n",
       "      <td>199.3</td>\n",
       "      <td>10.0</td>\n",
       "    </tr>\n",
       "    <tr>\n",
       "      <th>2</th>\n",
       "      <td>193.6</td>\n",
       "      <td>22.4</td>\n",
       "    </tr>\n",
       "    <tr>\n",
       "      <th>3</th>\n",
       "      <td>167.7</td>\n",
       "      <td>35.6</td>\n",
       "    </tr>\n",
       "    <tr>\n",
       "      <th>4</th>\n",
       "      <td>183.9</td>\n",
       "      <td>45.4</td>\n",
       "    </tr>\n",
       "    <tr>\n",
       "      <th>5</th>\n",
       "      <td>182.5</td>\n",
       "      <td>47.2</td>\n",
       "    </tr>\n",
       "    <tr>\n",
       "      <th>6</th>\n",
       "      <td>166.1</td>\n",
       "      <td>48.8</td>\n",
       "    </tr>\n",
       "    <tr>\n",
       "      <th>7</th>\n",
       "      <td>160.7</td>\n",
       "      <td>42.1</td>\n",
       "    </tr>\n",
       "    <tr>\n",
       "      <th>8</th>\n",
       "      <td>162.9</td>\n",
       "      <td>29.0</td>\n",
       "    </tr>\n",
       "    <tr>\n",
       "      <th>9</th>\n",
       "      <td>166.4</td>\n",
       "      <td>33.6</td>\n",
       "    </tr>\n",
       "    <tr>\n",
       "      <th>10</th>\n",
       "      <td>163.0</td>\n",
       "      <td>35.8</td>\n",
       "    </tr>\n",
       "    <tr>\n",
       "      <th>11</th>\n",
       "      <td>156.1</td>\n",
       "      <td>38.7</td>\n",
       "    </tr>\n",
       "    <tr>\n",
       "      <th>12</th>\n",
       "      <td>157.6</td>\n",
       "      <td>42.8</td>\n",
       "    </tr>\n",
       "    <tr>\n",
       "      <th>13</th>\n",
       "      <td>154.4</td>\n",
       "      <td>36.2</td>\n",
       "    </tr>\n",
       "    <tr>\n",
       "      <th>14</th>\n",
       "      <td>150.8</td>\n",
       "      <td>45.8</td>\n",
       "    </tr>\n",
       "    <tr>\n",
       "      <th>15</th>\n",
       "      <td>144.6</td>\n",
       "      <td>25.4</td>\n",
       "    </tr>\n",
       "    <tr>\n",
       "      <th>16</th>\n",
       "      <td>142.7</td>\n",
       "      <td>25.4</td>\n",
       "    </tr>\n",
       "    <tr>\n",
       "      <th>17</th>\n",
       "      <td>144.0</td>\n",
       "      <td>28.3</td>\n",
       "    </tr>\n",
       "    <tr>\n",
       "      <th>18</th>\n",
       "      <td>143.5</td>\n",
       "      <td>36.9</td>\n",
       "    </tr>\n",
       "    <tr>\n",
       "      <th>19</th>\n",
       "      <td>123.1</td>\n",
       "      <td>14.3</td>\n",
       "    </tr>\n",
       "    <tr>\n",
       "      <th>20</th>\n",
       "      <td>113.9</td>\n",
       "      <td>13.1</td>\n",
       "    </tr>\n",
       "    <tr>\n",
       "      <th>21</th>\n",
       "      <td>114.9</td>\n",
       "      <td>8.1</td>\n",
       "    </tr>\n",
       "    <tr>\n",
       "      <th>22</th>\n",
       "      <td>101.4</td>\n",
       "      <td>9.3</td>\n",
       "    </tr>\n",
       "    <tr>\n",
       "      <th>23</th>\n",
       "      <td>105.7</td>\n",
       "      <td>9.1</td>\n",
       "    </tr>\n",
       "    <tr>\n",
       "      <th>24</th>\n",
       "      <td>106.9</td>\n",
       "      <td>14.7</td>\n",
       "    </tr>\n",
       "    <tr>\n",
       "      <th>25</th>\n",
       "      <td>127.0</td>\n",
       "      <td>29.7</td>\n",
       "    </tr>\n",
       "    <tr>\n",
       "      <th>26</th>\n",
       "      <td>129.8</td>\n",
       "      <td>45.8</td>\n",
       "    </tr>\n",
       "    <tr>\n",
       "      <th>27</th>\n",
       "      <td>136.3</td>\n",
       "      <td>44.2</td>\n",
       "    </tr>\n",
       "    <tr>\n",
       "      <th>28</th>\n",
       "      <td>106.7</td>\n",
       "      <td>49.4</td>\n",
       "    </tr>\n",
       "    <tr>\n",
       "      <th>29</th>\n",
       "      <td>103.4</td>\n",
       "      <td>49.6</td>\n",
       "    </tr>\n",
       "    <tr>\n",
       "      <th>...</th>\n",
       "      <td>...</td>\n",
       "      <td>...</td>\n",
       "    </tr>\n",
       "    <tr>\n",
       "      <th>554</th>\n",
       "      <td>104.0</td>\n",
       "      <td>166.1</td>\n",
       "    </tr>\n",
       "    <tr>\n",
       "      <th>555</th>\n",
       "      <td>103.7</td>\n",
       "      <td>167.2</td>\n",
       "    </tr>\n",
       "    <tr>\n",
       "      <th>556</th>\n",
       "      <td>108.6</td>\n",
       "      <td>182.1</td>\n",
       "    </tr>\n",
       "    <tr>\n",
       "      <th>557</th>\n",
       "      <td>105.7</td>\n",
       "      <td>182.6</td>\n",
       "    </tr>\n",
       "    <tr>\n",
       "      <th>558</th>\n",
       "      <td>102.8</td>\n",
       "      <td>169.7</td>\n",
       "    </tr>\n",
       "    <tr>\n",
       "      <th>559</th>\n",
       "      <td>101.5</td>\n",
       "      <td>171.8</td>\n",
       "    </tr>\n",
       "    <tr>\n",
       "      <th>560</th>\n",
       "      <td>100.4</td>\n",
       "      <td>170.5</td>\n",
       "    </tr>\n",
       "    <tr>\n",
       "      <th>561</th>\n",
       "      <td>144.1</td>\n",
       "      <td>199.0</td>\n",
       "    </tr>\n",
       "    <tr>\n",
       "      <th>562</th>\n",
       "      <td>138.3</td>\n",
       "      <td>197.9</td>\n",
       "    </tr>\n",
       "    <tr>\n",
       "      <th>563</th>\n",
       "      <td>142.7</td>\n",
       "      <td>197.2</td>\n",
       "    </tr>\n",
       "    <tr>\n",
       "      <th>564</th>\n",
       "      <td>118.8</td>\n",
       "      <td>188.0</td>\n",
       "    </tr>\n",
       "    <tr>\n",
       "      <th>565</th>\n",
       "      <td>142.3</td>\n",
       "      <td>173.3</td>\n",
       "    </tr>\n",
       "    <tr>\n",
       "      <th>566</th>\n",
       "      <td>143.8</td>\n",
       "      <td>156.0</td>\n",
       "    </tr>\n",
       "    <tr>\n",
       "      <th>567</th>\n",
       "      <td>145.3</td>\n",
       "      <td>155.6</td>\n",
       "    </tr>\n",
       "    <tr>\n",
       "      <th>568</th>\n",
       "      <td>151.2</td>\n",
       "      <td>192.2</td>\n",
       "    </tr>\n",
       "    <tr>\n",
       "      <th>569</th>\n",
       "      <td>153.7</td>\n",
       "      <td>176.5</td>\n",
       "    </tr>\n",
       "    <tr>\n",
       "      <th>570</th>\n",
       "      <td>186.9</td>\n",
       "      <td>174.7</td>\n",
       "    </tr>\n",
       "    <tr>\n",
       "      <th>571</th>\n",
       "      <td>181.2</td>\n",
       "      <td>176.9</td>\n",
       "    </tr>\n",
       "    <tr>\n",
       "      <th>572</th>\n",
       "      <td>181.1</td>\n",
       "      <td>176.1</td>\n",
       "    </tr>\n",
       "    <tr>\n",
       "      <th>573</th>\n",
       "      <td>177.2</td>\n",
       "      <td>174.5</td>\n",
       "    </tr>\n",
       "    <tr>\n",
       "      <th>574</th>\n",
       "      <td>182.8</td>\n",
       "      <td>162.9</td>\n",
       "    </tr>\n",
       "    <tr>\n",
       "      <th>575</th>\n",
       "      <td>180.0</td>\n",
       "      <td>160.2</td>\n",
       "    </tr>\n",
       "    <tr>\n",
       "      <th>576</th>\n",
       "      <td>189.1</td>\n",
       "      <td>156.3</td>\n",
       "    </tr>\n",
       "    <tr>\n",
       "      <th>577</th>\n",
       "      <td>196.9</td>\n",
       "      <td>151.4</td>\n",
       "    </tr>\n",
       "    <tr>\n",
       "      <th>578</th>\n",
       "      <td>171.4</td>\n",
       "      <td>161.6</td>\n",
       "    </tr>\n",
       "    <tr>\n",
       "      <th>579</th>\n",
       "      <td>169.1</td>\n",
       "      <td>160.0</td>\n",
       "    </tr>\n",
       "    <tr>\n",
       "      <th>580</th>\n",
       "      <td>162.5</td>\n",
       "      <td>157.3</td>\n",
       "    </tr>\n",
       "    <tr>\n",
       "      <th>581</th>\n",
       "      <td>156.7</td>\n",
       "      <td>155.3</td>\n",
       "    </tr>\n",
       "    <tr>\n",
       "      <th>582</th>\n",
       "      <td>154.1</td>\n",
       "      <td>150.8</td>\n",
       "    </tr>\n",
       "    <tr>\n",
       "      <th>583</th>\n",
       "      <td>87.7</td>\n",
       "      <td>200.0</td>\n",
       "    </tr>\n",
       "  </tbody>\n",
       "</table>\n",
       "<p>584 rows × 2 columns</p>\n",
       "</div>"
      ],
      "text/plain": [
       "        sn     we\n",
       "0    200.0    8.8\n",
       "1    199.3   10.0\n",
       "2    193.6   22.4\n",
       "3    167.7   35.6\n",
       "4    183.9   45.4\n",
       "5    182.5   47.2\n",
       "6    166.1   48.8\n",
       "7    160.7   42.1\n",
       "8    162.9   29.0\n",
       "9    166.4   33.6\n",
       "10   163.0   35.8\n",
       "11   156.1   38.7\n",
       "12   157.6   42.8\n",
       "13   154.4   36.2\n",
       "14   150.8   45.8\n",
       "15   144.6   25.4\n",
       "16   142.7   25.4\n",
       "17   144.0   28.3\n",
       "18   143.5   36.9\n",
       "19   123.1   14.3\n",
       "20   113.9   13.1\n",
       "21   114.9    8.1\n",
       "22   101.4    9.3\n",
       "23   105.7    9.1\n",
       "24   106.9   14.7\n",
       "25   127.0   29.7\n",
       "26   129.8   45.8\n",
       "27   136.3   44.2\n",
       "28   106.7   49.4\n",
       "29   103.4   49.6\n",
       "..     ...    ...\n",
       "554  104.0  166.1\n",
       "555  103.7  167.2\n",
       "556  108.6  182.1\n",
       "557  105.7  182.6\n",
       "558  102.8  169.7\n",
       "559  101.5  171.8\n",
       "560  100.4  170.5\n",
       "561  144.1  199.0\n",
       "562  138.3  197.9\n",
       "563  142.7  197.2\n",
       "564  118.8  188.0\n",
       "565  142.3  173.3\n",
       "566  143.8  156.0\n",
       "567  145.3  155.6\n",
       "568  151.2  192.2\n",
       "569  153.7  176.5\n",
       "570  186.9  174.7\n",
       "571  181.2  176.9\n",
       "572  181.1  176.1\n",
       "573  177.2  174.5\n",
       "574  182.8  162.9\n",
       "575  180.0  160.2\n",
       "576  189.1  156.3\n",
       "577  196.9  151.4\n",
       "578  171.4  161.6\n",
       "579  169.1  160.0\n",
       "580  162.5  157.3\n",
       "581  156.7  155.3\n",
       "582  154.1  150.8\n",
       "583   87.7  200.0\n",
       "\n",
       "[584 rows x 2 columns]"
      ]
     },
     "execution_count": 350,
     "metadata": {},
     "output_type": "execute_result"
    }
   ],
   "source": [
    "import pandas as pd\n",
    "\n",
    "data = pd.read_csv('pines.txt', header = 0, delimiter = '\\t')\n",
    "data"
   ]
  },
  {
   "cell_type": "code",
   "execution_count": 353,
   "metadata": {},
   "outputs": [
    {
     "data": {
      "text/plain": [
       "array([200. ,   8.8])"
      ]
     },
     "execution_count": 353,
     "metadata": {},
     "output_type": "execute_result"
    }
   ],
   "source": [
    "data.values[0]"
   ]
  },
  {
   "cell_type": "code",
   "execution_count": 354,
   "metadata": {},
   "outputs": [
    {
     "data": {
      "text/plain": [
       "<matplotlib.collections.PathCollection at 0x13c0cde50>"
      ]
     },
     "execution_count": 354,
     "metadata": {},
     "output_type": "execute_result"
    },
    {
     "data": {
      "image/png": "[encoded data removed]",
      "text/plain": [
       "<Figure size 432x288 with 1 Axes>"
      ]
     },
     "metadata": {
      "needs_background": "light"
     },
     "output_type": "display_data"
    }
   ],
   "source": [
    "plt.scatter([x[0] for x in data.values], [x[1] for x in data.values])"
   ]
  },
  {
   "cell_type": "code",
   "execution_count": 378,
   "metadata": {},
   "outputs": [
    {
     "data": {
      "text/plain": [
       "array([[18., 26., 29., 25., 20.],\n",
       "       [14., 12., 22., 34., 25.],\n",
       "       [12., 24., 15., 50., 37.],\n",
       "       [ 8., 19., 31., 50.,  7.],\n",
       "       [ 7.,  8., 37., 27., 27.]])"
      ]
     },
     "execution_count": 378,
     "metadata": {},
     "output_type": "execute_result"
    }
   ],
   "source": [
    "from scipy import stats\n",
    "xbin = [0, 40, 80, 120, 160, 200]\n",
    "ybin = [0, 40, 80, 120, 160, 200]\n",
    "\n",
    "x = data['sn'].values\n",
    "y = data['we'].values\n",
    "z = scipy.stats.binned_statistic_2d(x, y, values= None, statistic  = 'count', bins=[xbin,ybin])\n",
    "z.statistic"
   ]
  },
  {
   "cell_type": "code",
   "execution_count": 368,
   "metadata": {},
   "outputs": [
    {
     "name": "stdout",
     "output_type": "stream",
     "text": [
      "23.36\n"
     ]
    }
   ],
   "source": [
    "l = 584./25\n",
    "print l"
   ]
  },
  {
   "cell_type": "code",
   "execution_count": 395,
   "metadata": {},
   "outputs": [
    {
     "data": {
      "text/plain": [
       "array([18., 26., 29., 25., 20., 14., 12., 22., 34., 25., 12., 24., 15.,\n",
       "       50., 37.,  8., 19., 31., 50.,  7.,  7.,  8., 37., 27., 27.])"
      ]
     },
     "execution_count": 395,
     "metadata": {},
     "output_type": "execute_result"
    }
   ],
   "source": [
    "new_list = []\n",
    "for x in z.statistic:\n",
    "    for y in x:\n",
    "        new_list.append(float(y))\n",
    "np.array(new_list)      "
   ]
  },
  {
   "cell_type": "code",
   "execution_count": 396,
   "metadata": {},
   "outputs": [
    {
     "data": {
      "text/plain": [
       "Power_divergenceResult(statistic=150.58904109589042, pvalue=9.87806178820889e-21)"
      ]
     },
     "execution_count": 396,
     "metadata": {},
     "output_type": "execute_result"
    }
   ],
   "source": [
    "stats.chisquare(new_list, ddof = 1)"
   ]
  },
  {
   "cell_type": "code",
   "execution_count": 397,
   "metadata": {},
   "outputs": [
    {
     "data": {
      "text/plain": [
       "Power_divergenceResult(statistic=150.58904109589042, pvalue=2.574669774967279e-20)"
      ]
     },
     "execution_count": 397,
     "metadata": {},
     "output_type": "execute_result"
    }
   ],
   "source": [
    "stats.chisquare(new_list, ddof = 0)"
   ]
  },
  {
   "cell_type": "code",
   "execution_count": null,
   "metadata": {},
   "outputs": [],
   "source": []
  }
 ],
 "metadata": {
  "kernelspec": {
   "display_name": "Python 2",
   "language": "python",
   "name": "python2"
  },
  "language_info": {
   "codemirror_mode": {
    "name": "ipython",
    "version": 2
   },
   "file_extension": ".py",
   "mimetype": "text/x-python",
   "name": "python",
   "nbconvert_exporter": "python",
   "pygments_lexer": "ipython2",
   "version": "2.7.15"
  }
 },
 "nbformat": 4,
 "nbformat_minor": 2
}
