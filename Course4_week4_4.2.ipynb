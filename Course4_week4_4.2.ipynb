{
 "cells": [
  {
   "cell_type": "code",
   "execution_count": 47,
   "metadata": {},
   "outputs": [],
   "source": [
    "import numpy as np\n",
    "import pandas as pd\n",
    "\n",
    "import scipy\n",
    "from statsmodels.stats.weightstats import *\n",
    "from collections import Counter\n",
    "from statsmodels.sandbox.stats.multicomp import multipletests "
   ]
  },
  {
   "cell_type": "code",
   "execution_count": 3,
   "metadata": {},
   "outputs": [],
   "source": [
    "data = pd.read_csv('gene_high_throughput_sequencing.csv', header = 0)\n",
    "#data.columns = ['Placebo', 'Methylphenidate']"
   ]
  },
  {
   "cell_type": "code",
   "execution_count": 32,
   "metadata": {},
   "outputs": [],
   "source": [
    "data_norm = data[data['Diagnosis'] == 'normal']\n",
    "data_norm = data_norm.drop(columns=['Patient_id', 'Diagnosis'])\n",
    "\n",
    "data_neop = data[data['Diagnosis'] == 'early neoplasia']\n",
    "data_neop = data_neop.drop(columns=['Patient_id', 'Diagnosis'])\n",
    "\n",
    "data_cancer = data[data['Diagnosis'] == 'cancer']\n",
    "data_cancer = data_cancer.drop(columns=['Patient_id', 'Diagnosis'])"
   ]
  },
  {
   "cell_type": "code",
   "execution_count": 79,
   "metadata": {},
   "outputs": [],
   "source": [
    "res1 = scipy.stats.ttest_ind(data_norm, data_neop, equal_var = False)[1]"
   ]
  },
  {
   "cell_type": "code",
   "execution_count": 80,
   "metadata": {},
   "outputs": [
    {
     "data": {
      "text/plain": [
       "Counter({False: 14173, True: 1575})"
      ]
     },
     "execution_count": 80,
     "metadata": {},
     "output_type": "execute_result"
    }
   ],
   "source": [
    "Counter(res1 < 0.05)"
   ]
  },
  {
   "cell_type": "code",
   "execution_count": 69,
   "metadata": {},
   "outputs": [],
   "source": [
    "res2 = scipy.stats.ttest_ind(data_neop, data_cancer, equal_var = False)[1]"
   ]
  },
  {
   "cell_type": "code",
   "execution_count": 70,
   "metadata": {},
   "outputs": [
    {
     "data": {
      "text/plain": [
       "Counter({False: 12258, True: 3490})"
      ]
     },
     "execution_count": 70,
     "metadata": {},
     "output_type": "execute_result"
    }
   ],
   "source": [
    "Counter(res2 < 0.05)"
   ]
  },
  {
   "cell_type": "code",
   "execution_count": 95,
   "metadata": {},
   "outputs": [],
   "source": [
    "reject, p_corrected, a1, a2 = multipletests(res1, \n",
    "                                            alpha = 0.025, \n",
    "                                            method = 'holm') "
   ]
  },
  {
   "cell_type": "code",
   "execution_count": 96,
   "metadata": {},
   "outputs": [
    {
     "data": {
      "text/plain": [
       "Counter({False: 15746, True: 2})"
      ]
     },
     "execution_count": 96,
     "metadata": {},
     "output_type": "execute_result"
    }
   ],
   "source": [
    "Counter(p_corrected<0.025)"
   ]
  },
  {
   "cell_type": "code",
   "execution_count": 98,
   "metadata": {},
   "outputs": [
    {
     "name": "stdout",
     "output_type": "stream",
     "text": [
      "(7244, True)\n",
      "(9820, True)\n"
     ]
    }
   ],
   "source": [
    "for counter, value in enumerate(p_corrected<0.025):\n",
    "    if value == True:\n",
    "        print(counter, value)"
   ]
  },
  {
   "cell_type": "code",
   "execution_count": 111,
   "metadata": {},
   "outputs": [],
   "source": [
    "def fold_change(x,y):\n",
    "    a = x.mean()\n",
    "    b = y.mean()\n",
    "    if b > a:\n",
    "        return float(b)/a\n",
    "    else:\n",
    "        return -float(a)/b"
   ]
  },
  {
   "cell_type": "code",
   "execution_count": 112,
   "metadata": {},
   "outputs": [
    {
     "data": {
      "text/plain": [
       "14.983424243666663"
      ]
     },
     "execution_count": 112,
     "metadata": {},
     "output_type": "execute_result"
    }
   ],
   "source": [
    "data_norm.iloc[:,7244].mean()"
   ]
  },
  {
   "cell_type": "code",
   "execution_count": 114,
   "metadata": {},
   "outputs": [
    {
     "name": "stdout",
     "output_type": "stream",
     "text": [
      "1.50978548204\n",
      "1.97486766564\n"
     ]
    }
   ],
   "source": [
    "print fold_change(data_norm.iloc[:,7244],data_neop.iloc[:,7244])\n",
    "print fold_change(data_norm.iloc[:,9820],data_neop.iloc[:,9820])"
   ]
  },
  {
   "cell_type": "code",
   "execution_count": 119,
   "metadata": {},
   "outputs": [],
   "source": [
    "ind_list = []\n",
    "reject, p_corrected, a1, a2 = multipletests(res2, \n",
    "                                            alpha = 0.025, \n",
    "                                            method = 'holm') \n",
    "for counter, value in enumerate(p_corrected<0.025):\n",
    "    if value == True:\n",
    "        ind_list.append(counter)"
   ]
  },
  {
   "cell_type": "code",
   "execution_count": 123,
   "metadata": {},
   "outputs": [],
   "source": [
    "abs_list = []\n",
    "for i in np.array(ind_list):\n",
    "    abs_list.append(abs(fold_change(data_neop.iloc[:,i],data_cancer.iloc[:,i])))"
   ]
  },
  {
   "cell_type": "code",
   "execution_count": 129,
   "metadata": {},
   "outputs": [
    {
     "data": {
      "text/plain": [
       "Counter({False: 2, True: 77})"
      ]
     },
     "execution_count": 129,
     "metadata": {},
     "output_type": "execute_result"
    }
   ],
   "source": [
    "Counter(np.array(abs_list) > 1.5)"
   ]
  },
  {
   "cell_type": "code",
   "execution_count": 136,
   "metadata": {},
   "outputs": [],
   "source": [
    "ind_list = []\n",
    "reject, p_corrected, a1, a2 = multipletests(res1, \n",
    "                                            alpha = 0.025, \n",
    "                                            method = 'fdr_bh') \n",
    "for counter, value in enumerate(p_corrected<0.025):\n",
    "    if value == True:\n",
    "        ind_list.append(counter)"
   ]
  },
  {
   "cell_type": "code",
   "execution_count": 137,
   "metadata": {},
   "outputs": [],
   "source": [
    "abs_list = []\n",
    "for i in np.array(ind_list):\n",
    "    abs_list.append(abs(fold_change(data_norm.iloc[:,i],data_neop.iloc[:,i])))"
   ]
  },
  {
   "cell_type": "code",
   "execution_count": 138,
   "metadata": {},
   "outputs": [
    {
     "data": {
      "text/plain": [
       "Counter({True: 4})"
      ]
     },
     "execution_count": 138,
     "metadata": {},
     "output_type": "execute_result"
    }
   ],
   "source": [
    "Counter(np.array(abs_list) > 1.5)"
   ]
  },
  {
   "cell_type": "code",
   "execution_count": 139,
   "metadata": {},
   "outputs": [
    {
     "data": {
      "text/plain": [
       "Counter({False: 308, True: 524})"
      ]
     },
     "execution_count": 139,
     "metadata": {},
     "output_type": "execute_result"
    }
   ],
   "source": [
    "ind_list = []\n",
    "reject, p_corrected, a1, a2 = multipletests(res2, \n",
    "                                            alpha = 0.025, \n",
    "                                            method = 'fdr_bh') \n",
    "for counter, value in enumerate(p_corrected<0.025):\n",
    "    if value == True:\n",
    "        ind_list.append(counter)\n",
    "abs_list = []\n",
    "for i in np.array(ind_list):\n",
    "    abs_list.append(abs(fold_change(data_neop.iloc[:,i],data_cancer.iloc[:,i])))\n",
    "Counter(np.array(abs_list) > 1.5)"
   ]
  },
  {
   "cell_type": "code",
   "execution_count": null,
   "metadata": {},
   "outputs": [],
   "source": []
  }
 ],
 "metadata": {
  "kernelspec": {
   "display_name": "Python 2",
   "language": "python",
   "name": "python2"
  },
  "language_info": {
   "codemirror_mode": {
    "name": "ipython",
    "version": 2
   },
   "file_extension": ".py",
   "mimetype": "text/x-python",
   "name": "python",
   "nbconvert_exporter": "python",
   "pygments_lexer": "ipython2",
   "version": "2.7.15"
  }
 },
 "nbformat": 4,
 "nbformat_minor": 2
}
